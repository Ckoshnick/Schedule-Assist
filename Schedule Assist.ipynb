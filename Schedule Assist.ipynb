{
 "cells": [
  {
   "cell_type": "code",
   "execution_count": 1,
   "metadata": {},
   "outputs": [],
   "source": [
    "import os\n",
    "import sys\n",
    "import pandas as pd\n",
    "\n",
    "os.chdir('./src')\n",
    "\n",
    "from schedule_assist import *"
   ]
  },
  {
   "cell_type": "markdown",
   "metadata": {},
   "source": [
    "## Usage Notes\n",
    "\n",
    "- Run the top cell, then the bottom cell\n",
    "- Siemens report needs to be in \"siemens schedule input\" folder\n",
    "- Siemens reports will be moved if moveSiemens=True\n",
    "- Output will land in \"report output\" folder\n",
    "- Events that are not attached to an AHU schedule can only be viewed in the \"raw\" datatab \n",
    "- Be sure to check these! Only ignore \"ignore\""
   ]
  },
  {
   "cell_type": "code",
   "execution_count": 2,
   "metadata": {},
   "outputs": [
    {
     "name": "stdout",
     "output_type": "stream",
     "text": [
      "Loading in file fail_08-24-18_10-09.csv\n",
      "\n",
      "Working...\n",
      "\n",
      "Saving Assistant report as ..\\report output\\SA_output 2018-08-24 10_11.xlsx\n",
      "Moving ..\\siemens schedule input\\fail_08-24-18_10-09.csv to ..\\siemens schedule output\\fail_08-24-18_10-09.csv\n"
     ]
    }
   ],
   "source": [
    "kalidah = generate_report(moveSiemens=True)"
   ]
  }
 ],
 "metadata": {
  "kernelspec": {
   "display_name": "Python 3",
   "language": "python",
   "name": "python3"
  },
  "language_info": {
   "codemirror_mode": {
    "name": "ipython",
    "version": 3
   },
   "file_extension": ".py",
   "mimetype": "text/x-python",
   "name": "python",
   "nbconvert_exporter": "python",
   "pygments_lexer": "ipython3",
   "version": "3.6.4"
  }
 },
 "nbformat": 4,
 "nbformat_minor": 2
}
