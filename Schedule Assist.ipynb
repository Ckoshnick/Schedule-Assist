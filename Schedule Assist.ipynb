{
 "cells": [
  {
   "cell_type": "code",
   "execution_count": 1,
   "metadata": {},
   "outputs": [],
   "source": [
    "import os\n",
    "import sys\n",
    "import pandas as pd\n",
    "\n",
    "os.chdir('./src')\n",
    "\n",
    "import schedule_assist as sa\n",
    "import schedule_monitor as sm"
   ]
  },
  {
   "cell_type": "markdown",
   "metadata": {},
   "source": [
    "## Usage Notes\n",
    "\n",
    "- Run the top cell, then the bottom cell\n",
    "- Siemens report needs to be in \"siemens schedule input\" folder\n",
    "- Siemens reports will be moved if moveSiemens=True\n",
    "- Output will land in \"report output\" folder\n",
    "- Events that are not attached to an AHU schedule can only be viewed in the \"raw\" datatab \n",
    "- Be sure to check these! Only ignore \"ignore\""
   ]
  },
  {
   "cell_type": "code",
   "execution_count": 2,
   "metadata": {},
   "outputs": [
    {
     "name": "stdout",
     "output_type": "stream",
     "text": [
      "Loading in file Schedule Report After Change 10_10-05-18_16-20.05.18.csv\n",
      "Saturday October 06 2018\n",
      "Sunday October 07 2018\n",
      "Monday October 08 2018\n",
      "Tuesday October 09 2018\n",
      "Wednesday October 10 2018\n",
      "Thursday October 11 2018\n",
      "Friday October 12 2018\n",
      "\n",
      "Working...\n",
      "\n"
     ]
    },
    {
     "name": "stderr",
     "output_type": "stream",
     "text": [
      "C:\\Users\\masuda\\Box Sync\\UCD_ECO_coding\\Schedule-Assist\\src\\schedule_assist.py:383: FutureWarning: Interpreting tuple 'by' as a list of keys, rather than a single key. Use 'by=[...]' instead of 'by=(...)'. In the future, a tuple will always mean a single key.\n",
      "  df = df.groupby(by=('Date', 'Building', 'Siemens Schedule')).agg(f)\n"
     ]
    },
    {
     "name": "stdout",
     "output_type": "stream",
     "text": [
      "Saving Assistant report as ..\\report output\\SA_output 2018-10-05 16_22.xlsx\n",
      "Moving ..\\siemens schedule input\\Schedule Report After Change 10_10-05-18_16-20.05.18.csv to ..\\siemens schedule output\\Schedule Report After Change 10_10-05-18_16-20.05.18.csv\n"
     ]
    }
   ],
   "source": [
    "kalidah = sa.generate_report(moveSiemens=False)"
   ]
  },
  {
   "cell_type": "code",
   "execution_count": 2,
   "metadata": {},
   "outputs": [
    {
     "name": "stderr",
     "output_type": "stream",
     "text": [
      "C:\\Users\\koshnick\\AppData\\Local\\Continuum\\anaconda3\\lib\\site-packages\\pandas\\core\\generic.py:3111: PerformanceWarning: dropping on a non-lexsorted multi-index without a level parameter may impact performance.\n",
      "  obj = obj._drop_axis(labels, axis, level=level, errors=errors)\n"
     ]
    },
    {
     "name": "stdout",
     "output_type": "stream",
     "text": [
      "Pulling PI data...\n",
      "Starting at 2018-10-22 until 2018-10-29\n",
      "Grabbing WebIDs ...\n",
      "Warning: Tag C113.AHU1.Run Status not found in dataServer\n",
      "Warning: Tag COWL.SF1.RM0011_1, COWL.SF1.RM0011_2, COWL.ZONE.AH01.RM0015A, COWL.ZONE.AH01.RM0015B, COWL.ZONE.AH01.RM0023, COWL.ZONE.AH01.RM0023B, COWL.ZONE.AH01.RM0025, COWL.ZONE.AH01.RM_HALL, COWL.ZONE.AH02.RM0031, COWL.ZONE.AH02.RM0035, COWL.ZONE.AH02.RM0037.Run Status not found in dataServer\n",
      "Warning: Tag COWL.AHU.MZ1.Run Status not found in dataServer\n",
      "Warning: Tag COWL.AHU.MZ2.Run Status not found in dataServer\n",
      "Warning: Tag COWL.AHU.SF1.Run Status not found in dataServer\n",
      "Warning: Tag SP.AHU.AC1.Run Status not found in dataServer\n",
      "Warning: Tag SP.AHU.AC2.Run Status not found in dataServer\n",
      "Warning: Tag MIWF.AHU.A45.Run Status not found in dataServer\n",
      "Warning: Tag MIWF.AHU.A46.Run Status not found in dataServer\n",
      "Warning: Tag MRAK.AHU.AC01.Run Status not found in dataServer\n",
      "Warning: Tag ROES.AHU.AC07.Run Status not found in dataServer\n",
      "Warning: Tag RPL.AHU.AC1.Run Status not found in dataServer\n",
      "Warning: Tag E164.AHU.AHU1.Run Status not found in dataServer\n",
      "Warning: Tag E164.AHU.AHU2.Run Status not found in dataServer\n",
      "Warning: Tag WESTERN.AHU.HP1.Run Status not found in dataServer\n",
      "Warning: Tag WESTERN.AHU.HP2.Run Status not found in dataServer\n",
      "Warning: Tag WESTERN.AHU.HP3.Run Status not found in dataServer\n",
      "Warning: Tag WESTERN.AHU.HP4.Run Status not found in dataServer\n",
      "Warning: Tag WESTERN.AHU.HP5.Run Status not found in dataServer\n",
      "WebID collection complete!\n",
      "Sending API request... Chunk 1 of 2\n",
      "Response recieved!\n",
      "\n",
      "Chunk 1 query took 0.01 minutes\n",
      "Remaining 1 chunks expected to take 0.01 minutes\n",
      "\n",
      "Parsing stream...\n",
      "Parse complete!\n",
      "Sending API request... Chunk 2 of 2\n",
      "Response recieved!\n",
      "Parsing stream...\n",
      "Parse complete!\n",
      "PI data recieved!\n",
      "C113.AHU1 failed find difference (\"df[ahu + tag] - df[ahu]\")\n",
      "COWL.SF1.RM0011_1, COWL.SF1.RM0011_2, COWL.ZONE.AH01.RM0015A, COWL.ZONE.AH01.RM0015B, COWL.ZONE.AH01.RM0023, COWL.ZONE.AH01.RM0023B, COWL.ZONE.AH01.RM0025, COWL.ZONE.AH01.RM_HALL, COWL.ZONE.AH02.RM0031, COWL.ZONE.AH02.RM0035, COWL.ZONE.AH02.RM0037 failed find difference (\"df[ahu + tag] - df[ahu]\")\n",
      "COWL.AHU.MZ1 failed find difference (\"df[ahu + tag] - df[ahu]\")\n",
      "COWL.AHU.MZ2 failed find difference (\"df[ahu + tag] - df[ahu]\")\n",
      "COWL.AHU.SF1 failed find difference (\"df[ahu + tag] - df[ahu]\")\n",
      "SP.AHU.AC1 failed find difference (\"df[ahu + tag] - df[ahu]\")\n",
      "SP.AHU.AC2 failed find difference (\"df[ahu + tag] - df[ahu]\")\n",
      "MIWF.AHU.A45 failed find difference (\"df[ahu + tag] - df[ahu]\")\n",
      "MIWF.AHU.A46 failed find difference (\"df[ahu + tag] - df[ahu]\")\n",
      "MRAK.AHU.AC01 failed find difference (\"df[ahu + tag] - df[ahu]\")\n",
      "ROES.AHU.AC07 failed find difference (\"df[ahu + tag] - df[ahu]\")\n",
      "RPL.AHU.AC1 failed find difference (\"df[ahu + tag] - df[ahu]\")\n",
      "E164.AHU.AHU1 failed find difference (\"df[ahu + tag] - df[ahu]\")\n",
      "E164.AHU.AHU2 failed find difference (\"df[ahu + tag] - df[ahu]\")\n",
      "WESTERN.AHU.HP1 failed find difference (\"df[ahu + tag] - df[ahu]\")\n",
      "WESTERN.AHU.HP2 failed find difference (\"df[ahu + tag] - df[ahu]\")\n",
      "WESTERN.AHU.HP3 failed find difference (\"df[ahu + tag] - df[ahu]\")\n",
      "WESTERN.AHU.HP4 failed find difference (\"df[ahu + tag] - df[ahu]\")\n",
      "WESTERN.AHU.HP5 failed find difference (\"df[ahu + tag] - df[ahu]\")\n",
      "Expect 2 repetitions to fit 24 AHUs with 12 AHU per group and 4 intermediate pages with 3 plots per page\n",
      "row in page 0 ; col in df 0\n",
      "row in page 1 ; col in df 1\n",
      "row in page 2 ; col in df 2\n",
      "row in page 0 ; col in df 3\n",
      "row in page 1 ; col in df 4\n",
      "row in page 2 ; col in df 5\n",
      "row in page 0 ; col in df 6\n",
      "row in page 1 ; col in df 7\n",
      "row in page 2 ; col in df 8\n",
      "row in page 0 ; col in df 9\n",
      "row in page 1 ; col in df 10\n",
      "row in page 2 ; col in df 11\n",
      "row in page 0 ; col in df 0\n",
      "row in page 1 ; col in df 1\n",
      "row in page 2 ; col in df 2\n",
      "row in page 0 ; col in df 3\n",
      "row in page 1 ; col in df 4\n",
      "row in page 2 ; col in df 5\n",
      "row in page 0 ; col in df 6\n",
      "row in page 1 ; col in df 7\n",
      "row in page 2 ; col in df 8\n",
      "row in page 0 ; col in df 9\n",
      "row in page 1 ; col in df 10\n",
      "row in page 2 ; col in df 11\n"
     ]
    }
   ],
   "source": [
    "monitor = sm.generate_report()"
   ]
  }
 ],
 "metadata": {
  "kernelspec": {
   "display_name": "Python 3",
   "language": "python",
   "name": "python3"
  },
  "language_info": {
   "codemirror_mode": {
    "name": "ipython",
    "version": 3
   },
   "file_extension": ".py",
   "mimetype": "text/x-python",
   "name": "python",
   "nbconvert_exporter": "python",
   "pygments_lexer": "ipython3",
   "version": "3.6.5"
  }
 },
 "nbformat": 4,
 "nbformat_minor": 2
}
