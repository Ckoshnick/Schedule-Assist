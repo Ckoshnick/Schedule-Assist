{
 "cells": [
  {
   "cell_type": "code",
   "execution_count": 1,
   "metadata": {},
   "outputs": [],
   "source": [
    "import os\n",
    "import sys\n",
    "import pandas as pd\n",
    "\n",
    "os.chdir('./src')\n",
    "\n",
    "import schedule_assist as sa\n",
    "import schedule_monitor as sm"
   ]
  },
  {
   "cell_type": "markdown",
   "metadata": {},
   "source": [
    "## Usage Notes\n",
    "\n",
    "- Run the top cell, then the bottom cell\n",
    "- Siemens report needs to be in \"siemens schedule input\" folder\n",
    "- Siemens reports will be moved if moveSiemens=True\n",
    "- Output will land in \"report output\" folder\n",
    "- Events that are not attached to an AHU schedule can only be viewed in the \"raw\" datatab \n",
    "- Be sure to check these! Only ignore \"ignore\""
   ]
  },
  {
   "cell_type": "code",
   "execution_count": 2,
   "metadata": {},
   "outputs": [
    {
     "name": "stdout",
     "output_type": "stream",
     "text": [
      "Loading in file Schedule Report After Change 10_10-05-18_16-20.05.18.csv\n",
      "Saturday October 06 2018\n",
      "Sunday October 07 2018\n",
      "Monday October 08 2018\n",
      "Tuesday October 09 2018\n",
      "Wednesday October 10 2018\n",
      "Thursday October 11 2018\n",
      "Friday October 12 2018\n",
      "\n",
      "Working...\n",
      "\n"
     ]
    },
    {
     "name": "stderr",
     "output_type": "stream",
     "text": [
      "C:\\Users\\masuda\\Box Sync\\UCD_ECO_coding\\Schedule-Assist\\src\\schedule_assist.py:383: FutureWarning: Interpreting tuple 'by' as a list of keys, rather than a single key. Use 'by=[...]' instead of 'by=(...)'. In the future, a tuple will always mean a single key.\n",
      "  df = df.groupby(by=('Date', 'Building', 'Siemens Schedule')).agg(f)\n"
     ]
    },
    {
     "name": "stdout",
     "output_type": "stream",
     "text": [
      "Saving Assistant report as ..\\report output\\SA_output 2018-10-05 16_22.xlsx\n",
      "Moving ..\\siemens schedule input\\Schedule Report After Change 10_10-05-18_16-20.05.18.csv to ..\\siemens schedule output\\Schedule Report After Change 10_10-05-18_16-20.05.18.csv\n"
     ]
    }
   ],
   "source": [
    "kalidah = sa.generate_report(moveSiemens=True)"
   ]
  },
  {
   "cell_type": "code",
   "execution_count": null,
   "metadata": {},
   "outputs": [],
   "source": [
    "monitor = sm.generate_report()"
   ]
  }
 ],
 "metadata": {
  "kernelspec": {
   "display_name": "Python 3",
   "language": "python",
   "name": "python3"
  },
  "language_info": {
   "codemirror_mode": {
    "name": "ipython",
    "version": 3
   },
   "file_extension": ".py",
   "mimetype": "text/x-python",
   "name": "python",
   "nbconvert_exporter": "python",
   "pygments_lexer": "ipython3",
   "version": "3.6.5"
  }
 },
 "nbformat": 4,
 "nbformat_minor": 2
}
